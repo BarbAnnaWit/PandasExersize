{
 "cells": [
  {
   "cell_type": "code",
   "execution_count": 1,
   "id": "0bf3efdf",
   "metadata": {
    "execution": {
     "iopub.execute_input": "2023-03-15T12:16:17.532219Z",
     "iopub.status.busy": "2023-03-15T12:16:17.530711Z",
     "iopub.status.idle": "2023-03-15T12:16:17.545067Z",
     "shell.execute_reply": "2023-03-15T12:16:17.544206Z"
    },
    "papermill": {
     "duration": 0.030737,
     "end_time": "2023-03-15T12:16:17.548324",
     "exception": false,
     "start_time": "2023-03-15T12:16:17.517587",
     "status": "completed"
    },
    "tags": []
   },
   "outputs": [
    {
     "name": "stdout",
     "output_type": "stream",
     "text": [
      "Explorind data with Pandas\n"
     ]
    }
   ],
   "source": [
    "print('Explorind data with Pandas')"
   ]
  },
  {
   "cell_type": "markdown",
   "id": "e5c327f2",
   "metadata": {
    "papermill": {
     "duration": 0.006842,
     "end_time": "2023-03-15T12:16:17.563394",
     "exception": false,
     "start_time": "2023-03-15T12:16:17.556552",
     "status": "completed"
    },
    "tags": []
   },
   "source": [
    "****This exersize is to learn how to use Pandas***"
   ]
  },
  {
   "cell_type": "code",
   "execution_count": 2,
   "id": "0ed482b0",
   "metadata": {
    "execution": {
     "iopub.execute_input": "2023-03-15T12:16:17.579889Z",
     "iopub.status.busy": "2023-03-15T12:16:17.578732Z",
     "iopub.status.idle": "2023-03-15T12:16:17.605790Z",
     "shell.execute_reply": "2023-03-15T12:16:17.604802Z"
    },
    "papermill": {
     "duration": 0.038044,
     "end_time": "2023-03-15T12:16:17.608411",
     "exception": false,
     "start_time": "2023-03-15T12:16:17.570367",
     "status": "completed"
    },
    "tags": []
   },
   "outputs": [],
   "source": [
    "#import Pandas\n",
    "import pandas as pd \n",
    "#loadind data into dataframe \n",
    "df= pd.read_csv ('/kaggle/input/destination/Destination (1).csv')"
   ]
  },
  {
   "cell_type": "code",
   "execution_count": 3,
   "id": "0930ad2c",
   "metadata": {
    "execution": {
     "iopub.execute_input": "2023-03-15T12:16:17.624003Z",
     "iopub.status.busy": "2023-03-15T12:16:17.623586Z",
     "iopub.status.idle": "2023-03-15T12:16:17.657588Z",
     "shell.execute_reply": "2023-03-15T12:16:17.656702Z"
    },
    "papermill": {
     "duration": 0.0448,
     "end_time": "2023-03-15T12:16:17.660093",
     "exception": false,
     "start_time": "2023-03-15T12:16:17.615293",
     "status": "completed"
    },
    "tags": []
   },
   "outputs": [
    {
     "data": {
      "text/html": [
       "<div>\n",
       "<style scoped>\n",
       "    .dataframe tbody tr th:only-of-type {\n",
       "        vertical-align: middle;\n",
       "    }\n",
       "\n",
       "    .dataframe tbody tr th {\n",
       "        vertical-align: top;\n",
       "    }\n",
       "\n",
       "    .dataframe thead th {\n",
       "        text-align: right;\n",
       "    }\n",
       "</style>\n",
       "<table border=\"1\" class=\"dataframe\">\n",
       "  <thead>\n",
       "    <tr style=\"text-align: right;\">\n",
       "      <th></th>\n",
       "      <th>id</th>\n",
       "      <th>Destination</th>\n",
       "      <th>Feedback</th>\n",
       "      <th>Avg Rating</th>\n",
       "      <th>All in Hotels</th>\n",
       "      <th>Most Popular</th>\n",
       "    </tr>\n",
       "  </thead>\n",
       "  <tbody>\n",
       "    <tr>\n",
       "      <th>0</th>\n",
       "      <td>1.0</td>\n",
       "      <td>New Zealand</td>\n",
       "      <td>9.0</td>\n",
       "      <td>4.0</td>\n",
       "      <td>5.0</td>\n",
       "      <td>Rotura</td>\n",
       "    </tr>\n",
       "    <tr>\n",
       "      <th>1</th>\n",
       "      <td>2.0</td>\n",
       "      <td>North Pole</td>\n",
       "      <td>8.0</td>\n",
       "      <td>4.0</td>\n",
       "      <td>6.0</td>\n",
       "      <td>Svalbard</td>\n",
       "    </tr>\n",
       "    <tr>\n",
       "      <th>2</th>\n",
       "      <td>3.0</td>\n",
       "      <td>Turkmenistan</td>\n",
       "      <td>7.0</td>\n",
       "      <td>3.0</td>\n",
       "      <td>9.0</td>\n",
       "      <td>Derweze</td>\n",
       "    </tr>\n",
       "    <tr>\n",
       "      <th>3</th>\n",
       "      <td>4.0</td>\n",
       "      <td>Russia</td>\n",
       "      <td>8.0</td>\n",
       "      <td>5.0</td>\n",
       "      <td>17.0</td>\n",
       "      <td>Yekaterinburg</td>\n",
       "    </tr>\n",
       "    <tr>\n",
       "      <th>4</th>\n",
       "      <td>5.0</td>\n",
       "      <td>Austria</td>\n",
       "      <td>9.0</td>\n",
       "      <td>4.0</td>\n",
       "      <td>12.0</td>\n",
       "      <td>Hinterbruhl</td>\n",
       "    </tr>\n",
       "    <tr>\n",
       "      <th>5</th>\n",
       "      <td>6.0</td>\n",
       "      <td>China</td>\n",
       "      <td>8.0</td>\n",
       "      <td>3.0</td>\n",
       "      <td>198.0</td>\n",
       "      <td>Xinjiang</td>\n",
       "    </tr>\n",
       "    <tr>\n",
       "      <th>6</th>\n",
       "      <td>7.0</td>\n",
       "      <td>Italy</td>\n",
       "      <td>9.0</td>\n",
       "      <td>5.0</td>\n",
       "      <td>76.0</td>\n",
       "      <td>Puglia</td>\n",
       "    </tr>\n",
       "    <tr>\n",
       "      <th>7</th>\n",
       "      <td>8.0</td>\n",
       "      <td>France</td>\n",
       "      <td>6.0</td>\n",
       "      <td>3.0</td>\n",
       "      <td>24.0</td>\n",
       "      <td>Nantes</td>\n",
       "    </tr>\n",
       "    <tr>\n",
       "      <th>8</th>\n",
       "      <td>9.0</td>\n",
       "      <td>India</td>\n",
       "      <td>8.0</td>\n",
       "      <td>3.0</td>\n",
       "      <td>45.0</td>\n",
       "      <td>Ladakh</td>\n",
       "    </tr>\n",
       "    <tr>\n",
       "      <th>9</th>\n",
       "      <td>10.0</td>\n",
       "      <td>Indonesia</td>\n",
       "      <td>9.0</td>\n",
       "      <td>4.0</td>\n",
       "      <td>80.0</td>\n",
       "      <td>Aceh</td>\n",
       "    </tr>\n",
       "    <tr>\n",
       "      <th>10</th>\n",
       "      <td>11.0</td>\n",
       "      <td>Japan</td>\n",
       "      <td>10.0</td>\n",
       "      <td>5.0</td>\n",
       "      <td>90.0</td>\n",
       "      <td>Beppu</td>\n",
       "    </tr>\n",
       "    <tr>\n",
       "      <th>11</th>\n",
       "      <td>12.0</td>\n",
       "      <td>Turkey</td>\n",
       "      <td>9.0</td>\n",
       "      <td>4.0</td>\n",
       "      <td>54.0</td>\n",
       "      <td>Faralya</td>\n",
       "    </tr>\n",
       "    <tr>\n",
       "      <th>12</th>\n",
       "      <td>13.0</td>\n",
       "      <td>Palestine</td>\n",
       "      <td>9.0</td>\n",
       "      <td>3.0</td>\n",
       "      <td>5.0</td>\n",
       "      <td>Jerusalem</td>\n",
       "    </tr>\n",
       "    <tr>\n",
       "      <th>13</th>\n",
       "      <td>14.0</td>\n",
       "      <td>Oman</td>\n",
       "      <td>7.0</td>\n",
       "      <td>5.0</td>\n",
       "      <td>2.0</td>\n",
       "      <td>Bahla</td>\n",
       "    </tr>\n",
       "    <tr>\n",
       "      <th>14</th>\n",
       "      <td>15.0</td>\n",
       "      <td>United Kingdom</td>\n",
       "      <td>7.0</td>\n",
       "      <td>4.0</td>\n",
       "      <td>20.0</td>\n",
       "      <td>London</td>\n",
       "    </tr>\n",
       "    <tr>\n",
       "      <th>15</th>\n",
       "      <td>NaN</td>\n",
       "      <td>NaN</td>\n",
       "      <td>NaN</td>\n",
       "      <td>NaN</td>\n",
       "      <td>NaN</td>\n",
       "      <td>NaN</td>\n",
       "    </tr>\n",
       "    <tr>\n",
       "      <th>16</th>\n",
       "      <td>NaN</td>\n",
       "      <td>NaN</td>\n",
       "      <td>NaN</td>\n",
       "      <td>NaN</td>\n",
       "      <td>NaN</td>\n",
       "      <td>NaN</td>\n",
       "    </tr>\n",
       "  </tbody>\n",
       "</table>\n",
       "</div>"
      ],
      "text/plain": [
       "      id     Destination  Feedback  Avg Rating  All in Hotels   Most Popular\n",
       "0    1.0     New Zealand       9.0         4.0            5.0         Rotura\n",
       "1    2.0      North Pole       8.0         4.0            6.0       Svalbard\n",
       "2    3.0    Turkmenistan       7.0         3.0            9.0        Derweze\n",
       "3    4.0          Russia       8.0         5.0           17.0  Yekaterinburg\n",
       "4    5.0         Austria       9.0         4.0           12.0    Hinterbruhl\n",
       "5    6.0           China       8.0         3.0          198.0       Xinjiang\n",
       "6    7.0           Italy       9.0         5.0           76.0         Puglia\n",
       "7    8.0          France       6.0         3.0           24.0         Nantes\n",
       "8    9.0           India       8.0         3.0           45.0         Ladakh\n",
       "9   10.0       Indonesia       9.0         4.0           80.0           Aceh\n",
       "10  11.0           Japan      10.0         5.0           90.0          Beppu\n",
       "11  12.0          Turkey       9.0         4.0           54.0        Faralya\n",
       "12  13.0       Palestine       9.0         3.0            5.0      Jerusalem\n",
       "13  14.0            Oman       7.0         5.0            2.0          Bahla\n",
       "14  15.0  United Kingdom       7.0         4.0           20.0         London\n",
       "15   NaN             NaN       NaN         NaN            NaN            NaN\n",
       "16   NaN             NaN       NaN         NaN            NaN            NaN"
      ]
     },
     "execution_count": 3,
     "metadata": {},
     "output_type": "execute_result"
    }
   ],
   "source": [
    "df"
   ]
  },
  {
   "cell_type": "code",
   "execution_count": 4,
   "id": "c71a6209",
   "metadata": {
    "execution": {
     "iopub.execute_input": "2023-03-15T12:16:17.677274Z",
     "iopub.status.busy": "2023-03-15T12:16:17.676811Z",
     "iopub.status.idle": "2023-03-15T12:16:17.693491Z",
     "shell.execute_reply": "2023-03-15T12:16:17.692259Z"
    },
    "papermill": {
     "duration": 0.028374,
     "end_time": "2023-03-15T12:16:17.695900",
     "exception": false,
     "start_time": "2023-03-15T12:16:17.667526",
     "status": "completed"
    },
    "tags": []
   },
   "outputs": [
    {
     "data": {
      "text/html": [
       "<div>\n",
       "<style scoped>\n",
       "    .dataframe tbody tr th:only-of-type {\n",
       "        vertical-align: middle;\n",
       "    }\n",
       "\n",
       "    .dataframe tbody tr th {\n",
       "        vertical-align: top;\n",
       "    }\n",
       "\n",
       "    .dataframe thead th {\n",
       "        text-align: right;\n",
       "    }\n",
       "</style>\n",
       "<table border=\"1\" class=\"dataframe\">\n",
       "  <thead>\n",
       "    <tr style=\"text-align: right;\">\n",
       "      <th></th>\n",
       "      <th>id</th>\n",
       "      <th>Destination</th>\n",
       "      <th>Feedback</th>\n",
       "      <th>Avg Rating</th>\n",
       "      <th>All in Hotels</th>\n",
       "      <th>Most Popular</th>\n",
       "    </tr>\n",
       "  </thead>\n",
       "  <tbody>\n",
       "    <tr>\n",
       "      <th>0</th>\n",
       "      <td>1.0</td>\n",
       "      <td>New Zealand</td>\n",
       "      <td>9.0</td>\n",
       "      <td>4.0</td>\n",
       "      <td>5.0</td>\n",
       "      <td>Rotura</td>\n",
       "    </tr>\n",
       "    <tr>\n",
       "      <th>1</th>\n",
       "      <td>2.0</td>\n",
       "      <td>North Pole</td>\n",
       "      <td>8.0</td>\n",
       "      <td>4.0</td>\n",
       "      <td>6.0</td>\n",
       "      <td>Svalbard</td>\n",
       "    </tr>\n",
       "    <tr>\n",
       "      <th>2</th>\n",
       "      <td>3.0</td>\n",
       "      <td>Turkmenistan</td>\n",
       "      <td>7.0</td>\n",
       "      <td>3.0</td>\n",
       "      <td>9.0</td>\n",
       "      <td>Derweze</td>\n",
       "    </tr>\n",
       "    <tr>\n",
       "      <th>3</th>\n",
       "      <td>4.0</td>\n",
       "      <td>Russia</td>\n",
       "      <td>8.0</td>\n",
       "      <td>5.0</td>\n",
       "      <td>17.0</td>\n",
       "      <td>Yekaterinburg</td>\n",
       "    </tr>\n",
       "    <tr>\n",
       "      <th>4</th>\n",
       "      <td>5.0</td>\n",
       "      <td>Austria</td>\n",
       "      <td>9.0</td>\n",
       "      <td>4.0</td>\n",
       "      <td>12.0</td>\n",
       "      <td>Hinterbruhl</td>\n",
       "    </tr>\n",
       "    <tr>\n",
       "      <th>5</th>\n",
       "      <td>6.0</td>\n",
       "      <td>China</td>\n",
       "      <td>8.0</td>\n",
       "      <td>3.0</td>\n",
       "      <td>198.0</td>\n",
       "      <td>Xinjiang</td>\n",
       "    </tr>\n",
       "    <tr>\n",
       "      <th>6</th>\n",
       "      <td>7.0</td>\n",
       "      <td>Italy</td>\n",
       "      <td>9.0</td>\n",
       "      <td>5.0</td>\n",
       "      <td>76.0</td>\n",
       "      <td>Puglia</td>\n",
       "    </tr>\n",
       "    <tr>\n",
       "      <th>7</th>\n",
       "      <td>8.0</td>\n",
       "      <td>France</td>\n",
       "      <td>6.0</td>\n",
       "      <td>3.0</td>\n",
       "      <td>24.0</td>\n",
       "      <td>Nantes</td>\n",
       "    </tr>\n",
       "    <tr>\n",
       "      <th>8</th>\n",
       "      <td>9.0</td>\n",
       "      <td>India</td>\n",
       "      <td>8.0</td>\n",
       "      <td>3.0</td>\n",
       "      <td>45.0</td>\n",
       "      <td>Ladakh</td>\n",
       "    </tr>\n",
       "    <tr>\n",
       "      <th>9</th>\n",
       "      <td>10.0</td>\n",
       "      <td>Indonesia</td>\n",
       "      <td>9.0</td>\n",
       "      <td>4.0</td>\n",
       "      <td>80.0</td>\n",
       "      <td>Aceh</td>\n",
       "    </tr>\n",
       "  </tbody>\n",
       "</table>\n",
       "</div>"
      ],
      "text/plain": [
       "     id   Destination  Feedback  Avg Rating  All in Hotels   Most Popular\n",
       "0   1.0   New Zealand       9.0         4.0            5.0         Rotura\n",
       "1   2.0    North Pole       8.0         4.0            6.0       Svalbard\n",
       "2   3.0  Turkmenistan       7.0         3.0            9.0        Derweze\n",
       "3   4.0        Russia       8.0         5.0           17.0  Yekaterinburg\n",
       "4   5.0       Austria       9.0         4.0           12.0    Hinterbruhl\n",
       "5   6.0         China       8.0         3.0          198.0       Xinjiang\n",
       "6   7.0         Italy       9.0         5.0           76.0         Puglia\n",
       "7   8.0        France       6.0         3.0           24.0         Nantes\n",
       "8   9.0         India       8.0         3.0           45.0         Ladakh\n",
       "9  10.0     Indonesia       9.0         4.0           80.0           Aceh"
      ]
     },
     "execution_count": 4,
     "metadata": {},
     "output_type": "execute_result"
    }
   ],
   "source": [
    "df.head(10)"
   ]
  },
  {
   "cell_type": "code",
   "execution_count": 5,
   "id": "e56ce731",
   "metadata": {
    "execution": {
     "iopub.execute_input": "2023-03-15T12:16:17.712670Z",
     "iopub.status.busy": "2023-03-15T12:16:17.712252Z",
     "iopub.status.idle": "2023-03-15T12:16:17.727602Z",
     "shell.execute_reply": "2023-03-15T12:16:17.726429Z"
    },
    "papermill": {
     "duration": 0.026435,
     "end_time": "2023-03-15T12:16:17.729767",
     "exception": false,
     "start_time": "2023-03-15T12:16:17.703332",
     "status": "completed"
    },
    "tags": []
   },
   "outputs": [
    {
     "data": {
      "text/html": [
       "<div>\n",
       "<style scoped>\n",
       "    .dataframe tbody tr th:only-of-type {\n",
       "        vertical-align: middle;\n",
       "    }\n",
       "\n",
       "    .dataframe tbody tr th {\n",
       "        vertical-align: top;\n",
       "    }\n",
       "\n",
       "    .dataframe thead th {\n",
       "        text-align: right;\n",
       "    }\n",
       "</style>\n",
       "<table border=\"1\" class=\"dataframe\">\n",
       "  <thead>\n",
       "    <tr style=\"text-align: right;\">\n",
       "      <th></th>\n",
       "      <th>id</th>\n",
       "      <th>Destination</th>\n",
       "      <th>Feedback</th>\n",
       "      <th>Avg Rating</th>\n",
       "      <th>All in Hotels</th>\n",
       "      <th>Most Popular</th>\n",
       "    </tr>\n",
       "  </thead>\n",
       "  <tbody>\n",
       "    <tr>\n",
       "      <th>12</th>\n",
       "      <td>13.0</td>\n",
       "      <td>Palestine</td>\n",
       "      <td>9.0</td>\n",
       "      <td>3.0</td>\n",
       "      <td>5.0</td>\n",
       "      <td>Jerusalem</td>\n",
       "    </tr>\n",
       "    <tr>\n",
       "      <th>13</th>\n",
       "      <td>14.0</td>\n",
       "      <td>Oman</td>\n",
       "      <td>7.0</td>\n",
       "      <td>5.0</td>\n",
       "      <td>2.0</td>\n",
       "      <td>Bahla</td>\n",
       "    </tr>\n",
       "    <tr>\n",
       "      <th>14</th>\n",
       "      <td>15.0</td>\n",
       "      <td>United Kingdom</td>\n",
       "      <td>7.0</td>\n",
       "      <td>4.0</td>\n",
       "      <td>20.0</td>\n",
       "      <td>London</td>\n",
       "    </tr>\n",
       "    <tr>\n",
       "      <th>15</th>\n",
       "      <td>NaN</td>\n",
       "      <td>NaN</td>\n",
       "      <td>NaN</td>\n",
       "      <td>NaN</td>\n",
       "      <td>NaN</td>\n",
       "      <td>NaN</td>\n",
       "    </tr>\n",
       "    <tr>\n",
       "      <th>16</th>\n",
       "      <td>NaN</td>\n",
       "      <td>NaN</td>\n",
       "      <td>NaN</td>\n",
       "      <td>NaN</td>\n",
       "      <td>NaN</td>\n",
       "      <td>NaN</td>\n",
       "    </tr>\n",
       "  </tbody>\n",
       "</table>\n",
       "</div>"
      ],
      "text/plain": [
       "      id     Destination  Feedback  Avg Rating  All in Hotels Most Popular\n",
       "12  13.0       Palestine       9.0         3.0            5.0    Jerusalem\n",
       "13  14.0            Oman       7.0         5.0            2.0        Bahla\n",
       "14  15.0  United Kingdom       7.0         4.0           20.0       London\n",
       "15   NaN             NaN       NaN         NaN            NaN          NaN\n",
       "16   NaN             NaN       NaN         NaN            NaN          NaN"
      ]
     },
     "execution_count": 5,
     "metadata": {},
     "output_type": "execute_result"
    }
   ],
   "source": [
    "df.tail()"
   ]
  },
  {
   "cell_type": "code",
   "execution_count": 6,
   "id": "5e23370e",
   "metadata": {
    "execution": {
     "iopub.execute_input": "2023-03-15T12:16:17.746813Z",
     "iopub.status.busy": "2023-03-15T12:16:17.745989Z",
     "iopub.status.idle": "2023-03-15T12:16:17.763369Z",
     "shell.execute_reply": "2023-03-15T12:16:17.762201Z"
    },
    "papermill": {
     "duration": 0.028339,
     "end_time": "2023-03-15T12:16:17.765587",
     "exception": false,
     "start_time": "2023-03-15T12:16:17.737248",
     "status": "completed"
    },
    "tags": []
   },
   "outputs": [
    {
     "data": {
      "text/html": [
       "<div>\n",
       "<style scoped>\n",
       "    .dataframe tbody tr th:only-of-type {\n",
       "        vertical-align: middle;\n",
       "    }\n",
       "\n",
       "    .dataframe tbody tr th {\n",
       "        vertical-align: top;\n",
       "    }\n",
       "\n",
       "    .dataframe thead th {\n",
       "        text-align: right;\n",
       "    }\n",
       "</style>\n",
       "<table border=\"1\" class=\"dataframe\">\n",
       "  <thead>\n",
       "    <tr style=\"text-align: right;\">\n",
       "      <th></th>\n",
       "      <th>id</th>\n",
       "      <th>Destination</th>\n",
       "      <th>Feedback</th>\n",
       "      <th>Avg Rating</th>\n",
       "      <th>All in Hotels</th>\n",
       "      <th>Most Popular</th>\n",
       "    </tr>\n",
       "  </thead>\n",
       "  <tbody>\n",
       "    <tr>\n",
       "      <th>7</th>\n",
       "      <td>8.0</td>\n",
       "      <td>France</td>\n",
       "      <td>6.0</td>\n",
       "      <td>3.0</td>\n",
       "      <td>24.0</td>\n",
       "      <td>Nantes</td>\n",
       "    </tr>\n",
       "    <tr>\n",
       "      <th>8</th>\n",
       "      <td>9.0</td>\n",
       "      <td>India</td>\n",
       "      <td>8.0</td>\n",
       "      <td>3.0</td>\n",
       "      <td>45.0</td>\n",
       "      <td>Ladakh</td>\n",
       "    </tr>\n",
       "    <tr>\n",
       "      <th>9</th>\n",
       "      <td>10.0</td>\n",
       "      <td>Indonesia</td>\n",
       "      <td>9.0</td>\n",
       "      <td>4.0</td>\n",
       "      <td>80.0</td>\n",
       "      <td>Aceh</td>\n",
       "    </tr>\n",
       "    <tr>\n",
       "      <th>10</th>\n",
       "      <td>11.0</td>\n",
       "      <td>Japan</td>\n",
       "      <td>10.0</td>\n",
       "      <td>5.0</td>\n",
       "      <td>90.0</td>\n",
       "      <td>Beppu</td>\n",
       "    </tr>\n",
       "    <tr>\n",
       "      <th>11</th>\n",
       "      <td>12.0</td>\n",
       "      <td>Turkey</td>\n",
       "      <td>9.0</td>\n",
       "      <td>4.0</td>\n",
       "      <td>54.0</td>\n",
       "      <td>Faralya</td>\n",
       "    </tr>\n",
       "    <tr>\n",
       "      <th>12</th>\n",
       "      <td>13.0</td>\n",
       "      <td>Palestine</td>\n",
       "      <td>9.0</td>\n",
       "      <td>3.0</td>\n",
       "      <td>5.0</td>\n",
       "      <td>Jerusalem</td>\n",
       "    </tr>\n",
       "    <tr>\n",
       "      <th>13</th>\n",
       "      <td>14.0</td>\n",
       "      <td>Oman</td>\n",
       "      <td>7.0</td>\n",
       "      <td>5.0</td>\n",
       "      <td>2.0</td>\n",
       "      <td>Bahla</td>\n",
       "    </tr>\n",
       "    <tr>\n",
       "      <th>14</th>\n",
       "      <td>15.0</td>\n",
       "      <td>United Kingdom</td>\n",
       "      <td>7.0</td>\n",
       "      <td>4.0</td>\n",
       "      <td>20.0</td>\n",
       "      <td>London</td>\n",
       "    </tr>\n",
       "    <tr>\n",
       "      <th>15</th>\n",
       "      <td>NaN</td>\n",
       "      <td>NaN</td>\n",
       "      <td>NaN</td>\n",
       "      <td>NaN</td>\n",
       "      <td>NaN</td>\n",
       "      <td>NaN</td>\n",
       "    </tr>\n",
       "    <tr>\n",
       "      <th>16</th>\n",
       "      <td>NaN</td>\n",
       "      <td>NaN</td>\n",
       "      <td>NaN</td>\n",
       "      <td>NaN</td>\n",
       "      <td>NaN</td>\n",
       "      <td>NaN</td>\n",
       "    </tr>\n",
       "  </tbody>\n",
       "</table>\n",
       "</div>"
      ],
      "text/plain": [
       "      id     Destination  Feedback  Avg Rating  All in Hotels Most Popular\n",
       "7    8.0          France       6.0         3.0           24.0       Nantes\n",
       "8    9.0           India       8.0         3.0           45.0       Ladakh\n",
       "9   10.0       Indonesia       9.0         4.0           80.0         Aceh\n",
       "10  11.0           Japan      10.0         5.0           90.0        Beppu\n",
       "11  12.0          Turkey       9.0         4.0           54.0      Faralya\n",
       "12  13.0       Palestine       9.0         3.0            5.0    Jerusalem\n",
       "13  14.0            Oman       7.0         5.0            2.0        Bahla\n",
       "14  15.0  United Kingdom       7.0         4.0           20.0       London\n",
       "15   NaN             NaN       NaN         NaN            NaN          NaN\n",
       "16   NaN             NaN       NaN         NaN            NaN          NaN"
      ]
     },
     "execution_count": 6,
     "metadata": {},
     "output_type": "execute_result"
    }
   ],
   "source": [
    "df.tail(10)"
   ]
  },
  {
   "cell_type": "code",
   "execution_count": 7,
   "id": "22ce8ebb",
   "metadata": {
    "execution": {
     "iopub.execute_input": "2023-03-15T12:16:17.782869Z",
     "iopub.status.busy": "2023-03-15T12:16:17.782448Z",
     "iopub.status.idle": "2023-03-15T12:16:17.792319Z",
     "shell.execute_reply": "2023-03-15T12:16:17.791215Z"
    },
    "papermill": {
     "duration": 0.021579,
     "end_time": "2023-03-15T12:16:17.794874",
     "exception": false,
     "start_time": "2023-03-15T12:16:17.773295",
     "status": "completed"
    },
    "tags": []
   },
   "outputs": [
    {
     "data": {
      "text/plain": [
       "0        New Zealand\n",
       "1         North Pole\n",
       "2       Turkmenistan\n",
       "3             Russia\n",
       "4            Austria\n",
       "5              China\n",
       "6              Italy\n",
       "7             France\n",
       "8              India\n",
       "9          Indonesia\n",
       "10             Japan\n",
       "11            Turkey\n",
       "12         Palestine\n",
       "13              Oman\n",
       "14    United Kingdom\n",
       "15               NaN\n",
       "16               NaN\n",
       "Name: Destination, dtype: object"
      ]
     },
     "execution_count": 7,
     "metadata": {},
     "output_type": "execute_result"
    }
   ],
   "source": [
    "df.Destination #series will show data as single column"
   ]
  },
  {
   "cell_type": "code",
   "execution_count": 8,
   "id": "56df8bc0",
   "metadata": {
    "execution": {
     "iopub.execute_input": "2023-03-15T12:16:17.812844Z",
     "iopub.status.busy": "2023-03-15T12:16:17.811972Z",
     "iopub.status.idle": "2023-03-15T12:16:17.819660Z",
     "shell.execute_reply": "2023-03-15T12:16:17.818518Z"
    },
    "papermill": {
     "duration": 0.019154,
     "end_time": "2023-03-15T12:16:17.821819",
     "exception": false,
     "start_time": "2023-03-15T12:16:17.802665",
     "status": "completed"
    },
    "tags": []
   },
   "outputs": [
    {
     "data": {
      "text/plain": [
       "Index(['id', 'Destination', 'Feedback', 'Avg Rating', 'All in Hotels',\n",
       "       'Most Popular'],\n",
       "      dtype='object')"
      ]
     },
     "execution_count": 8,
     "metadata": {},
     "output_type": "execute_result"
    }
   ],
   "source": [
    "df.columns #shows all columns"
   ]
  },
  {
   "cell_type": "code",
   "execution_count": 9,
   "id": "da68bb31",
   "metadata": {
    "execution": {
     "iopub.execute_input": "2023-03-15T12:16:17.840681Z",
     "iopub.status.busy": "2023-03-15T12:16:17.840260Z",
     "iopub.status.idle": "2023-03-15T12:16:17.847258Z",
     "shell.execute_reply": "2023-03-15T12:16:17.846158Z"
    },
    "papermill": {
     "duration": 0.018717,
     "end_time": "2023-03-15T12:16:17.849431",
     "exception": false,
     "start_time": "2023-03-15T12:16:17.830714",
     "status": "completed"
    },
    "tags": []
   },
   "outputs": [
    {
     "data": {
      "text/plain": [
       "RangeIndex(start=0, stop=17, step=1)"
      ]
     },
     "execution_count": 9,
     "metadata": {},
     "output_type": "execute_result"
    }
   ],
   "source": [
    "df.index"
   ]
  },
  {
   "cell_type": "code",
   "execution_count": 10,
   "id": "6c84810d",
   "metadata": {
    "execution": {
     "iopub.execute_input": "2023-03-15T12:16:17.867579Z",
     "iopub.status.busy": "2023-03-15T12:16:17.867152Z",
     "iopub.status.idle": "2023-03-15T12:16:17.874100Z",
     "shell.execute_reply": "2023-03-15T12:16:17.872988Z"
    },
    "papermill": {
     "duration": 0.018859,
     "end_time": "2023-03-15T12:16:17.876327",
     "exception": false,
     "start_time": "2023-03-15T12:16:17.857468",
     "status": "completed"
    },
    "tags": []
   },
   "outputs": [
    {
     "data": {
      "text/plain": [
       "(17, 6)"
      ]
     },
     "execution_count": 10,
     "metadata": {},
     "output_type": "execute_result"
    }
   ],
   "source": [
    "df.shape "
   ]
  },
  {
   "cell_type": "code",
   "execution_count": 11,
   "id": "aef67cf0",
   "metadata": {
    "execution": {
     "iopub.execute_input": "2023-03-15T12:16:17.894725Z",
     "iopub.status.busy": "2023-03-15T12:16:17.894298Z",
     "iopub.status.idle": "2023-03-15T12:16:17.902726Z",
     "shell.execute_reply": "2023-03-15T12:16:17.901629Z"
    },
    "papermill": {
     "duration": 0.020527,
     "end_time": "2023-03-15T12:16:17.905077",
     "exception": false,
     "start_time": "2023-03-15T12:16:17.884550",
     "status": "completed"
    },
    "tags": []
   },
   "outputs": [
    {
     "data": {
      "text/plain": [
       "id               float64\n",
       "Destination       object\n",
       "Feedback         float64\n",
       "Avg Rating       float64\n",
       "All in Hotels    float64\n",
       "Most Popular      object\n",
       "dtype: object"
      ]
     },
     "execution_count": 11,
     "metadata": {},
     "output_type": "execute_result"
    }
   ],
   "source": [
    "df.dtypes #will display data stored in each row"
   ]
  },
  {
   "cell_type": "code",
   "execution_count": 12,
   "id": "66163320",
   "metadata": {
    "execution": {
     "iopub.execute_input": "2023-03-15T12:16:17.923622Z",
     "iopub.status.busy": "2023-03-15T12:16:17.923219Z",
     "iopub.status.idle": "2023-03-15T12:16:17.942530Z",
     "shell.execute_reply": "2023-03-15T12:16:17.941487Z"
    },
    "papermill": {
     "duration": 0.031516,
     "end_time": "2023-03-15T12:16:17.944924",
     "exception": false,
     "start_time": "2023-03-15T12:16:17.913408",
     "status": "completed"
    },
    "tags": []
   },
   "outputs": [
    {
     "name": "stdout",
     "output_type": "stream",
     "text": [
      "<class 'pandas.core.frame.DataFrame'>\n",
      "RangeIndex: 17 entries, 0 to 16\n",
      "Data columns (total 6 columns):\n",
      " #   Column         Non-Null Count  Dtype  \n",
      "---  ------         --------------  -----  \n",
      " 0   id             15 non-null     float64\n",
      " 1   Destination    15 non-null     object \n",
      " 2   Feedback       15 non-null     float64\n",
      " 3   Avg Rating     15 non-null     float64\n",
      " 4   All in Hotels  15 non-null     float64\n",
      " 5   Most Popular   15 non-null     object \n",
      "dtypes: float64(4), object(2)\n",
      "memory usage: 944.0+ bytes\n"
     ]
    }
   ],
   "source": [
    "df.info() #info about dataframe"
   ]
  },
  {
   "cell_type": "code",
   "execution_count": 13,
   "id": "c4f2832d",
   "metadata": {
    "execution": {
     "iopub.execute_input": "2023-03-15T12:16:17.963884Z",
     "iopub.status.busy": "2023-03-15T12:16:17.963450Z",
     "iopub.status.idle": "2023-03-15T12:16:17.972389Z",
     "shell.execute_reply": "2023-03-15T12:16:17.971174Z"
    },
    "papermill": {
     "duration": 0.021419,
     "end_time": "2023-03-15T12:16:17.974884",
     "exception": false,
     "start_time": "2023-03-15T12:16:17.953465",
     "status": "completed"
    },
    "tags": []
   },
   "outputs": [
    {
     "data": {
      "text/plain": [
       "0      9.0\n",
       "1      8.0\n",
       "2      7.0\n",
       "3      8.0\n",
       "4      9.0\n",
       "5      8.0\n",
       "6      9.0\n",
       "7      6.0\n",
       "8      8.0\n",
       "9      9.0\n",
       "10    10.0\n",
       "11     9.0\n",
       "12     9.0\n",
       "13     7.0\n",
       "14     7.0\n",
       "15     NaN\n",
       "16     NaN\n",
       "Name: Feedback, dtype: float64"
      ]
     },
     "execution_count": 13,
     "metadata": {},
     "output_type": "execute_result"
    }
   ],
   "source": [
    "df.Feedback # show only feedback column"
   ]
  },
  {
   "cell_type": "code",
   "execution_count": 14,
   "id": "b8d36930",
   "metadata": {
    "execution": {
     "iopub.execute_input": "2023-03-15T12:16:17.993679Z",
     "iopub.status.busy": "2023-03-15T12:16:17.993237Z",
     "iopub.status.idle": "2023-03-15T12:16:18.001855Z",
     "shell.execute_reply": "2023-03-15T12:16:18.000665Z"
    },
    "papermill": {
     "duration": 0.020965,
     "end_time": "2023-03-15T12:16:18.004354",
     "exception": false,
     "start_time": "2023-03-15T12:16:17.983389",
     "status": "completed"
    },
    "tags": []
   },
   "outputs": [
    {
     "data": {
      "text/plain": [
       "0        New Zealand\n",
       "1         North Pole\n",
       "2       Turkmenistan\n",
       "3             Russia\n",
       "4            Austria\n",
       "5              China\n",
       "6              Italy\n",
       "7             France\n",
       "8              India\n",
       "9          Indonesia\n",
       "10             Japan\n",
       "11            Turkey\n",
       "12         Palestine\n",
       "13              Oman\n",
       "14    United Kingdom\n",
       "15               NaN\n",
       "16               NaN\n",
       "Name: Destination, dtype: object"
      ]
     },
     "execution_count": 14,
     "metadata": {},
     "output_type": "execute_result"
    }
   ],
   "source": [
    "df.Destination "
   ]
  },
  {
   "cell_type": "code",
   "execution_count": 15,
   "id": "e56e42ee",
   "metadata": {
    "execution": {
     "iopub.execute_input": "2023-03-15T12:16:18.023456Z",
     "iopub.status.busy": "2023-03-15T12:16:18.023063Z",
     "iopub.status.idle": "2023-03-15T12:16:18.034726Z",
     "shell.execute_reply": "2023-03-15T12:16:18.033585Z"
    },
    "papermill": {
     "duration": 0.024295,
     "end_time": "2023-03-15T12:16:18.037140",
     "exception": false,
     "start_time": "2023-03-15T12:16:18.012845",
     "status": "completed"
    },
    "tags": []
   },
   "outputs": [
    {
     "data": {
      "text/html": [
       "<div>\n",
       "<style scoped>\n",
       "    .dataframe tbody tr th:only-of-type {\n",
       "        vertical-align: middle;\n",
       "    }\n",
       "\n",
       "    .dataframe tbody tr th {\n",
       "        vertical-align: top;\n",
       "    }\n",
       "\n",
       "    .dataframe thead th {\n",
       "        text-align: right;\n",
       "    }\n",
       "</style>\n",
       "<table border=\"1\" class=\"dataframe\">\n",
       "  <thead>\n",
       "    <tr style=\"text-align: right;\">\n",
       "      <th></th>\n",
       "      <th>Destination</th>\n",
       "      <th>Feedback</th>\n",
       "    </tr>\n",
       "  </thead>\n",
       "  <tbody>\n",
       "    <tr>\n",
       "      <th>0</th>\n",
       "      <td>New Zealand</td>\n",
       "      <td>9.0</td>\n",
       "    </tr>\n",
       "    <tr>\n",
       "      <th>1</th>\n",
       "      <td>North Pole</td>\n",
       "      <td>8.0</td>\n",
       "    </tr>\n",
       "    <tr>\n",
       "      <th>2</th>\n",
       "      <td>Turkmenistan</td>\n",
       "      <td>7.0</td>\n",
       "    </tr>\n",
       "    <tr>\n",
       "      <th>3</th>\n",
       "      <td>Russia</td>\n",
       "      <td>8.0</td>\n",
       "    </tr>\n",
       "    <tr>\n",
       "      <th>4</th>\n",
       "      <td>Austria</td>\n",
       "      <td>9.0</td>\n",
       "    </tr>\n",
       "  </tbody>\n",
       "</table>\n",
       "</div>"
      ],
      "text/plain": [
       "    Destination  Feedback\n",
       "0   New Zealand       9.0\n",
       "1    North Pole       8.0\n",
       "2  Turkmenistan       7.0\n",
       "3        Russia       8.0\n",
       "4       Austria       9.0"
      ]
     },
     "execution_count": 15,
     "metadata": {},
     "output_type": "execute_result"
    }
   ],
   "source": [
    "df[['Destination', 'Feedback']].head()"
   ]
  },
  {
   "cell_type": "code",
   "execution_count": 16,
   "id": "d8c3e755",
   "metadata": {
    "execution": {
     "iopub.execute_input": "2023-03-15T12:16:18.056837Z",
     "iopub.status.busy": "2023-03-15T12:16:18.055963Z",
     "iopub.status.idle": "2023-03-15T12:16:18.071482Z",
     "shell.execute_reply": "2023-03-15T12:16:18.070281Z"
    },
    "papermill": {
     "duration": 0.028104,
     "end_time": "2023-03-15T12:16:18.073998",
     "exception": false,
     "start_time": "2023-03-15T12:16:18.045894",
     "status": "completed"
    },
    "tags": []
   },
   "outputs": [
    {
     "data": {
      "text/html": [
       "<div>\n",
       "<style scoped>\n",
       "    .dataframe tbody tr th:only-of-type {\n",
       "        vertical-align: middle;\n",
       "    }\n",
       "\n",
       "    .dataframe tbody tr th {\n",
       "        vertical-align: top;\n",
       "    }\n",
       "\n",
       "    .dataframe thead th {\n",
       "        text-align: right;\n",
       "    }\n",
       "</style>\n",
       "<table border=\"1\" class=\"dataframe\">\n",
       "  <thead>\n",
       "    <tr style=\"text-align: right;\">\n",
       "      <th></th>\n",
       "      <th>id</th>\n",
       "      <th>Destination</th>\n",
       "      <th>Feedback</th>\n",
       "      <th>Avg Rating</th>\n",
       "      <th>All in Hotels</th>\n",
       "      <th>Most Popular</th>\n",
       "    </tr>\n",
       "  </thead>\n",
       "  <tbody>\n",
       "    <tr>\n",
       "      <th>4</th>\n",
       "      <td>5.0</td>\n",
       "      <td>Austria</td>\n",
       "      <td>9.0</td>\n",
       "      <td>4.0</td>\n",
       "      <td>12.0</td>\n",
       "      <td>Hinterbruhl</td>\n",
       "    </tr>\n",
       "    <tr>\n",
       "      <th>5</th>\n",
       "      <td>6.0</td>\n",
       "      <td>China</td>\n",
       "      <td>8.0</td>\n",
       "      <td>3.0</td>\n",
       "      <td>198.0</td>\n",
       "      <td>Xinjiang</td>\n",
       "    </tr>\n",
       "    <tr>\n",
       "      <th>6</th>\n",
       "      <td>7.0</td>\n",
       "      <td>Italy</td>\n",
       "      <td>9.0</td>\n",
       "      <td>5.0</td>\n",
       "      <td>76.0</td>\n",
       "      <td>Puglia</td>\n",
       "    </tr>\n",
       "    <tr>\n",
       "      <th>7</th>\n",
       "      <td>8.0</td>\n",
       "      <td>France</td>\n",
       "      <td>6.0</td>\n",
       "      <td>3.0</td>\n",
       "      <td>24.0</td>\n",
       "      <td>Nantes</td>\n",
       "    </tr>\n",
       "    <tr>\n",
       "      <th>8</th>\n",
       "      <td>9.0</td>\n",
       "      <td>India</td>\n",
       "      <td>8.0</td>\n",
       "      <td>3.0</td>\n",
       "      <td>45.0</td>\n",
       "      <td>Ladakh</td>\n",
       "    </tr>\n",
       "    <tr>\n",
       "      <th>9</th>\n",
       "      <td>10.0</td>\n",
       "      <td>Indonesia</td>\n",
       "      <td>9.0</td>\n",
       "      <td>4.0</td>\n",
       "      <td>80.0</td>\n",
       "      <td>Aceh</td>\n",
       "    </tr>\n",
       "  </tbody>\n",
       "</table>\n",
       "</div>"
      ],
      "text/plain": [
       "     id Destination  Feedback  Avg Rating  All in Hotels Most Popular\n",
       "4   5.0     Austria       9.0         4.0           12.0  Hinterbruhl\n",
       "5   6.0       China       8.0         3.0          198.0     Xinjiang\n",
       "6   7.0       Italy       9.0         5.0           76.0       Puglia\n",
       "7   8.0      France       6.0         3.0           24.0       Nantes\n",
       "8   9.0       India       8.0         3.0           45.0       Ladakh\n",
       "9  10.0   Indonesia       9.0         4.0           80.0         Aceh"
      ]
     },
     "execution_count": 16,
     "metadata": {},
     "output_type": "execute_result"
    }
   ],
   "source": [
    "df[4:10]"
   ]
  },
  {
   "cell_type": "code",
   "execution_count": 17,
   "id": "f512cc78",
   "metadata": {
    "execution": {
     "iopub.execute_input": "2023-03-15T12:16:18.093953Z",
     "iopub.status.busy": "2023-03-15T12:16:18.093561Z",
     "iopub.status.idle": "2023-03-15T12:16:18.105603Z",
     "shell.execute_reply": "2023-03-15T12:16:18.104453Z"
    },
    "papermill": {
     "duration": 0.025284,
     "end_time": "2023-03-15T12:16:18.108196",
     "exception": false,
     "start_time": "2023-03-15T12:16:18.082912",
     "status": "completed"
    },
    "tags": []
   },
   "outputs": [
    {
     "data": {
      "text/html": [
       "<div>\n",
       "<style scoped>\n",
       "    .dataframe tbody tr th:only-of-type {\n",
       "        vertical-align: middle;\n",
       "    }\n",
       "\n",
       "    .dataframe tbody tr th {\n",
       "        vertical-align: top;\n",
       "    }\n",
       "\n",
       "    .dataframe thead th {\n",
       "        text-align: right;\n",
       "    }\n",
       "</style>\n",
       "<table border=\"1\" class=\"dataframe\">\n",
       "  <thead>\n",
       "    <tr style=\"text-align: right;\">\n",
       "      <th></th>\n",
       "      <th>Destination</th>\n",
       "      <th>Feedback</th>\n",
       "      <th>Avg Rating</th>\n",
       "    </tr>\n",
       "  </thead>\n",
       "  <tbody>\n",
       "    <tr>\n",
       "      <th>1</th>\n",
       "      <td>North Pole</td>\n",
       "      <td>8.0</td>\n",
       "      <td>4.0</td>\n",
       "    </tr>\n",
       "    <tr>\n",
       "      <th>2</th>\n",
       "      <td>Turkmenistan</td>\n",
       "      <td>7.0</td>\n",
       "      <td>3.0</td>\n",
       "    </tr>\n",
       "    <tr>\n",
       "      <th>3</th>\n",
       "      <td>Russia</td>\n",
       "      <td>8.0</td>\n",
       "      <td>5.0</td>\n",
       "    </tr>\n",
       "  </tbody>\n",
       "</table>\n",
       "</div>"
      ],
      "text/plain": [
       "    Destination  Feedback  Avg Rating\n",
       "1    North Pole       8.0         4.0\n",
       "2  Turkmenistan       7.0         3.0\n",
       "3        Russia       8.0         5.0"
      ]
     },
     "execution_count": 17,
     "metadata": {},
     "output_type": "execute_result"
    }
   ],
   "source": [
    "df.iloc[1:4,[1, 2, 3]]"
   ]
  },
  {
   "cell_type": "code",
   "execution_count": 18,
   "id": "3cc8ba9b",
   "metadata": {
    "execution": {
     "iopub.execute_input": "2023-03-15T12:16:18.128388Z",
     "iopub.status.busy": "2023-03-15T12:16:18.127983Z",
     "iopub.status.idle": "2023-03-15T12:16:18.143599Z",
     "shell.execute_reply": "2023-03-15T12:16:18.142321Z"
    },
    "papermill": {
     "duration": 0.028644,
     "end_time": "2023-03-15T12:16:18.145987",
     "exception": false,
     "start_time": "2023-03-15T12:16:18.117343",
     "status": "completed"
    },
    "tags": []
   },
   "outputs": [
    {
     "data": {
      "text/html": [
       "<div>\n",
       "<style scoped>\n",
       "    .dataframe tbody tr th:only-of-type {\n",
       "        vertical-align: middle;\n",
       "    }\n",
       "\n",
       "    .dataframe tbody tr th {\n",
       "        vertical-align: top;\n",
       "    }\n",
       "\n",
       "    .dataframe thead th {\n",
       "        text-align: right;\n",
       "    }\n",
       "</style>\n",
       "<table border=\"1\" class=\"dataframe\">\n",
       "  <thead>\n",
       "    <tr style=\"text-align: right;\">\n",
       "      <th></th>\n",
       "      <th>id</th>\n",
       "      <th>Destination</th>\n",
       "      <th>Feedback</th>\n",
       "      <th>Avg Rating</th>\n",
       "      <th>Hotel_Count</th>\n",
       "      <th>Most Popular</th>\n",
       "    </tr>\n",
       "  </thead>\n",
       "  <tbody>\n",
       "    <tr>\n",
       "      <th>0</th>\n",
       "      <td>1.0</td>\n",
       "      <td>New Zealand</td>\n",
       "      <td>9.0</td>\n",
       "      <td>4.0</td>\n",
       "      <td>5.0</td>\n",
       "      <td>Rotura</td>\n",
       "    </tr>\n",
       "    <tr>\n",
       "      <th>1</th>\n",
       "      <td>2.0</td>\n",
       "      <td>North Pole</td>\n",
       "      <td>8.0</td>\n",
       "      <td>4.0</td>\n",
       "      <td>6.0</td>\n",
       "      <td>Svalbard</td>\n",
       "    </tr>\n",
       "    <tr>\n",
       "      <th>2</th>\n",
       "      <td>3.0</td>\n",
       "      <td>Turkmenistan</td>\n",
       "      <td>7.0</td>\n",
       "      <td>3.0</td>\n",
       "      <td>9.0</td>\n",
       "      <td>Derweze</td>\n",
       "    </tr>\n",
       "    <tr>\n",
       "      <th>3</th>\n",
       "      <td>4.0</td>\n",
       "      <td>Russia</td>\n",
       "      <td>8.0</td>\n",
       "      <td>5.0</td>\n",
       "      <td>17.0</td>\n",
       "      <td>Yekaterinburg</td>\n",
       "    </tr>\n",
       "    <tr>\n",
       "      <th>4</th>\n",
       "      <td>5.0</td>\n",
       "      <td>Austria</td>\n",
       "      <td>9.0</td>\n",
       "      <td>4.0</td>\n",
       "      <td>12.0</td>\n",
       "      <td>Hinterbruhl</td>\n",
       "    </tr>\n",
       "  </tbody>\n",
       "</table>\n",
       "</div>"
      ],
      "text/plain": [
       "    id   Destination  Feedback  Avg Rating  Hotel_Count   Most Popular\n",
       "0  1.0   New Zealand       9.0         4.0          5.0         Rotura\n",
       "1  2.0    North Pole       8.0         4.0          6.0       Svalbard\n",
       "2  3.0  Turkmenistan       7.0         3.0          9.0        Derweze\n",
       "3  4.0        Russia       8.0         5.0         17.0  Yekaterinburg\n",
       "4  5.0       Austria       9.0         4.0         12.0    Hinterbruhl"
      ]
     },
     "execution_count": 18,
     "metadata": {},
     "output_type": "execute_result"
    }
   ],
   "source": [
    "df.rename (columns = {'All in Hotels':'Hotel_Count'}).head()"
   ]
  },
  {
   "cell_type": "code",
   "execution_count": 19,
   "id": "916ddb43",
   "metadata": {
    "execution": {
     "iopub.execute_input": "2023-03-15T12:16:18.166600Z",
     "iopub.status.busy": "2023-03-15T12:16:18.166208Z",
     "iopub.status.idle": "2023-03-15T12:16:18.189982Z",
     "shell.execute_reply": "2023-03-15T12:16:18.188773Z"
    },
    "papermill": {
     "duration": 0.037045,
     "end_time": "2023-03-15T12:16:18.192591",
     "exception": false,
     "start_time": "2023-03-15T12:16:18.155546",
     "status": "completed"
    },
    "tags": []
   },
   "outputs": [
    {
     "data": {
      "text/html": [
       "<div>\n",
       "<style scoped>\n",
       "    .dataframe tbody tr th:only-of-type {\n",
       "        vertical-align: middle;\n",
       "    }\n",
       "\n",
       "    .dataframe tbody tr th {\n",
       "        vertical-align: top;\n",
       "    }\n",
       "\n",
       "    .dataframe thead th {\n",
       "        text-align: right;\n",
       "    }\n",
       "</style>\n",
       "<table border=\"1\" class=\"dataframe\">\n",
       "  <thead>\n",
       "    <tr style=\"text-align: right;\">\n",
       "      <th></th>\n",
       "      <th>id</th>\n",
       "      <th>Feedback</th>\n",
       "      <th>Avg Rating</th>\n",
       "      <th>All in Hotels</th>\n",
       "    </tr>\n",
       "  </thead>\n",
       "  <tbody>\n",
       "    <tr>\n",
       "      <th>count</th>\n",
       "      <td>15.000000</td>\n",
       "      <td>15.000000</td>\n",
       "      <td>15.000000</td>\n",
       "      <td>15.000000</td>\n",
       "    </tr>\n",
       "    <tr>\n",
       "      <th>mean</th>\n",
       "      <td>8.000000</td>\n",
       "      <td>8.200000</td>\n",
       "      <td>3.933333</td>\n",
       "      <td>42.866667</td>\n",
       "    </tr>\n",
       "    <tr>\n",
       "      <th>std</th>\n",
       "      <td>4.472136</td>\n",
       "      <td>1.082326</td>\n",
       "      <td>0.798809</td>\n",
       "      <td>52.398019</td>\n",
       "    </tr>\n",
       "    <tr>\n",
       "      <th>min</th>\n",
       "      <td>1.000000</td>\n",
       "      <td>6.000000</td>\n",
       "      <td>3.000000</td>\n",
       "      <td>2.000000</td>\n",
       "    </tr>\n",
       "    <tr>\n",
       "      <th>25%</th>\n",
       "      <td>4.500000</td>\n",
       "      <td>7.500000</td>\n",
       "      <td>3.000000</td>\n",
       "      <td>7.500000</td>\n",
       "    </tr>\n",
       "    <tr>\n",
       "      <th>50%</th>\n",
       "      <td>8.000000</td>\n",
       "      <td>8.000000</td>\n",
       "      <td>4.000000</td>\n",
       "      <td>20.000000</td>\n",
       "    </tr>\n",
       "    <tr>\n",
       "      <th>75%</th>\n",
       "      <td>11.500000</td>\n",
       "      <td>9.000000</td>\n",
       "      <td>4.500000</td>\n",
       "      <td>65.000000</td>\n",
       "    </tr>\n",
       "    <tr>\n",
       "      <th>max</th>\n",
       "      <td>15.000000</td>\n",
       "      <td>10.000000</td>\n",
       "      <td>5.000000</td>\n",
       "      <td>198.000000</td>\n",
       "    </tr>\n",
       "  </tbody>\n",
       "</table>\n",
       "</div>"
      ],
      "text/plain": [
       "              id   Feedback  Avg Rating  All in Hotels\n",
       "count  15.000000  15.000000   15.000000      15.000000\n",
       "mean    8.000000   8.200000    3.933333      42.866667\n",
       "std     4.472136   1.082326    0.798809      52.398019\n",
       "min     1.000000   6.000000    3.000000       2.000000\n",
       "25%     4.500000   7.500000    3.000000       7.500000\n",
       "50%     8.000000   8.000000    4.000000      20.000000\n",
       "75%    11.500000   9.000000    4.500000      65.000000\n",
       "max    15.000000  10.000000    5.000000     198.000000"
      ]
     },
     "execution_count": 19,
     "metadata": {},
     "output_type": "execute_result"
    }
   ],
   "source": [
    "df.describe() #get statistic analysis"
   ]
  },
  {
   "cell_type": "code",
   "execution_count": 20,
   "id": "17c6a2b4",
   "metadata": {
    "execution": {
     "iopub.execute_input": "2023-03-15T12:16:18.213834Z",
     "iopub.status.busy": "2023-03-15T12:16:18.213406Z",
     "iopub.status.idle": "2023-03-15T12:16:18.234919Z",
     "shell.execute_reply": "2023-03-15T12:16:18.233570Z"
    },
    "papermill": {
     "duration": 0.035003,
     "end_time": "2023-03-15T12:16:18.237276",
     "exception": false,
     "start_time": "2023-03-15T12:16:18.202273",
     "status": "completed"
    },
    "tags": []
   },
   "outputs": [
    {
     "data": {
      "text/html": [
       "<div>\n",
       "<style scoped>\n",
       "    .dataframe tbody tr th:only-of-type {\n",
       "        vertical-align: middle;\n",
       "    }\n",
       "\n",
       "    .dataframe tbody tr th {\n",
       "        vertical-align: top;\n",
       "    }\n",
       "\n",
       "    .dataframe thead th {\n",
       "        text-align: right;\n",
       "    }\n",
       "</style>\n",
       "<table border=\"1\" class=\"dataframe\">\n",
       "  <thead>\n",
       "    <tr style=\"text-align: right;\">\n",
       "      <th></th>\n",
       "      <th>id</th>\n",
       "      <th>Destination</th>\n",
       "      <th>Feedback</th>\n",
       "      <th>Avg Rating</th>\n",
       "      <th>All in Hotels</th>\n",
       "      <th>Most Popular</th>\n",
       "    </tr>\n",
       "  </thead>\n",
       "  <tbody>\n",
       "    <tr>\n",
       "      <th>7</th>\n",
       "      <td>8.0</td>\n",
       "      <td>France</td>\n",
       "      <td>6.0</td>\n",
       "      <td>3.0</td>\n",
       "      <td>24.0</td>\n",
       "      <td>Nantes</td>\n",
       "    </tr>\n",
       "    <tr>\n",
       "      <th>2</th>\n",
       "      <td>3.0</td>\n",
       "      <td>Turkmenistan</td>\n",
       "      <td>7.0</td>\n",
       "      <td>3.0</td>\n",
       "      <td>9.0</td>\n",
       "      <td>Derweze</td>\n",
       "    </tr>\n",
       "    <tr>\n",
       "      <th>13</th>\n",
       "      <td>14.0</td>\n",
       "      <td>Oman</td>\n",
       "      <td>7.0</td>\n",
       "      <td>5.0</td>\n",
       "      <td>2.0</td>\n",
       "      <td>Bahla</td>\n",
       "    </tr>\n",
       "    <tr>\n",
       "      <th>14</th>\n",
       "      <td>15.0</td>\n",
       "      <td>United Kingdom</td>\n",
       "      <td>7.0</td>\n",
       "      <td>4.0</td>\n",
       "      <td>20.0</td>\n",
       "      <td>London</td>\n",
       "    </tr>\n",
       "    <tr>\n",
       "      <th>1</th>\n",
       "      <td>2.0</td>\n",
       "      <td>North Pole</td>\n",
       "      <td>8.0</td>\n",
       "      <td>4.0</td>\n",
       "      <td>6.0</td>\n",
       "      <td>Svalbard</td>\n",
       "    </tr>\n",
       "    <tr>\n",
       "      <th>3</th>\n",
       "      <td>4.0</td>\n",
       "      <td>Russia</td>\n",
       "      <td>8.0</td>\n",
       "      <td>5.0</td>\n",
       "      <td>17.0</td>\n",
       "      <td>Yekaterinburg</td>\n",
       "    </tr>\n",
       "    <tr>\n",
       "      <th>5</th>\n",
       "      <td>6.0</td>\n",
       "      <td>China</td>\n",
       "      <td>8.0</td>\n",
       "      <td>3.0</td>\n",
       "      <td>198.0</td>\n",
       "      <td>Xinjiang</td>\n",
       "    </tr>\n",
       "    <tr>\n",
       "      <th>8</th>\n",
       "      <td>9.0</td>\n",
       "      <td>India</td>\n",
       "      <td>8.0</td>\n",
       "      <td>3.0</td>\n",
       "      <td>45.0</td>\n",
       "      <td>Ladakh</td>\n",
       "    </tr>\n",
       "    <tr>\n",
       "      <th>0</th>\n",
       "      <td>1.0</td>\n",
       "      <td>New Zealand</td>\n",
       "      <td>9.0</td>\n",
       "      <td>4.0</td>\n",
       "      <td>5.0</td>\n",
       "      <td>Rotura</td>\n",
       "    </tr>\n",
       "    <tr>\n",
       "      <th>4</th>\n",
       "      <td>5.0</td>\n",
       "      <td>Austria</td>\n",
       "      <td>9.0</td>\n",
       "      <td>4.0</td>\n",
       "      <td>12.0</td>\n",
       "      <td>Hinterbruhl</td>\n",
       "    </tr>\n",
       "    <tr>\n",
       "      <th>6</th>\n",
       "      <td>7.0</td>\n",
       "      <td>Italy</td>\n",
       "      <td>9.0</td>\n",
       "      <td>5.0</td>\n",
       "      <td>76.0</td>\n",
       "      <td>Puglia</td>\n",
       "    </tr>\n",
       "    <tr>\n",
       "      <th>9</th>\n",
       "      <td>10.0</td>\n",
       "      <td>Indonesia</td>\n",
       "      <td>9.0</td>\n",
       "      <td>4.0</td>\n",
       "      <td>80.0</td>\n",
       "      <td>Aceh</td>\n",
       "    </tr>\n",
       "    <tr>\n",
       "      <th>11</th>\n",
       "      <td>12.0</td>\n",
       "      <td>Turkey</td>\n",
       "      <td>9.0</td>\n",
       "      <td>4.0</td>\n",
       "      <td>54.0</td>\n",
       "      <td>Faralya</td>\n",
       "    </tr>\n",
       "    <tr>\n",
       "      <th>12</th>\n",
       "      <td>13.0</td>\n",
       "      <td>Palestine</td>\n",
       "      <td>9.0</td>\n",
       "      <td>3.0</td>\n",
       "      <td>5.0</td>\n",
       "      <td>Jerusalem</td>\n",
       "    </tr>\n",
       "    <tr>\n",
       "      <th>10</th>\n",
       "      <td>11.0</td>\n",
       "      <td>Japan</td>\n",
       "      <td>10.0</td>\n",
       "      <td>5.0</td>\n",
       "      <td>90.0</td>\n",
       "      <td>Beppu</td>\n",
       "    </tr>\n",
       "    <tr>\n",
       "      <th>15</th>\n",
       "      <td>NaN</td>\n",
       "      <td>NaN</td>\n",
       "      <td>NaN</td>\n",
       "      <td>NaN</td>\n",
       "      <td>NaN</td>\n",
       "      <td>NaN</td>\n",
       "    </tr>\n",
       "    <tr>\n",
       "      <th>16</th>\n",
       "      <td>NaN</td>\n",
       "      <td>NaN</td>\n",
       "      <td>NaN</td>\n",
       "      <td>NaN</td>\n",
       "      <td>NaN</td>\n",
       "      <td>NaN</td>\n",
       "    </tr>\n",
       "  </tbody>\n",
       "</table>\n",
       "</div>"
      ],
      "text/plain": [
       "      id     Destination  Feedback  Avg Rating  All in Hotels   Most Popular\n",
       "7    8.0          France       6.0         3.0           24.0         Nantes\n",
       "2    3.0    Turkmenistan       7.0         3.0            9.0        Derweze\n",
       "13  14.0            Oman       7.0         5.0            2.0          Bahla\n",
       "14  15.0  United Kingdom       7.0         4.0           20.0         London\n",
       "1    2.0      North Pole       8.0         4.0            6.0       Svalbard\n",
       "3    4.0          Russia       8.0         5.0           17.0  Yekaterinburg\n",
       "5    6.0           China       8.0         3.0          198.0       Xinjiang\n",
       "8    9.0           India       8.0         3.0           45.0         Ladakh\n",
       "0    1.0     New Zealand       9.0         4.0            5.0         Rotura\n",
       "4    5.0         Austria       9.0         4.0           12.0    Hinterbruhl\n",
       "6    7.0           Italy       9.0         5.0           76.0         Puglia\n",
       "9   10.0       Indonesia       9.0         4.0           80.0           Aceh\n",
       "11  12.0          Turkey       9.0         4.0           54.0        Faralya\n",
       "12  13.0       Palestine       9.0         3.0            5.0      Jerusalem\n",
       "10  11.0           Japan      10.0         5.0           90.0          Beppu\n",
       "15   NaN             NaN       NaN         NaN            NaN            NaN\n",
       "16   NaN             NaN       NaN         NaN            NaN            NaN"
      ]
     },
     "execution_count": 20,
     "metadata": {},
     "output_type": "execute_result"
    }
   ],
   "source": [
    "df.sort_values('Feedback')"
   ]
  },
  {
   "cell_type": "code",
   "execution_count": 21,
   "id": "916e956a",
   "metadata": {
    "execution": {
     "iopub.execute_input": "2023-03-15T12:16:18.259319Z",
     "iopub.status.busy": "2023-03-15T12:16:18.258574Z",
     "iopub.status.idle": "2023-03-15T12:16:18.273115Z",
     "shell.execute_reply": "2023-03-15T12:16:18.272307Z"
    },
    "papermill": {
     "duration": 0.028259,
     "end_time": "2023-03-15T12:16:18.275509",
     "exception": false,
     "start_time": "2023-03-15T12:16:18.247250",
     "status": "completed"
    },
    "tags": []
   },
   "outputs": [
    {
     "data": {
      "text/html": [
       "<div>\n",
       "<style scoped>\n",
       "    .dataframe tbody tr th:only-of-type {\n",
       "        vertical-align: middle;\n",
       "    }\n",
       "\n",
       "    .dataframe tbody tr th {\n",
       "        vertical-align: top;\n",
       "    }\n",
       "\n",
       "    .dataframe thead th {\n",
       "        text-align: right;\n",
       "    }\n",
       "</style>\n",
       "<table border=\"1\" class=\"dataframe\">\n",
       "  <thead>\n",
       "    <tr style=\"text-align: right;\">\n",
       "      <th></th>\n",
       "      <th>id</th>\n",
       "      <th>Destination</th>\n",
       "      <th>Feedback</th>\n",
       "      <th>Avg Rating</th>\n",
       "      <th>All in Hotels</th>\n",
       "      <th>Most Popular</th>\n",
       "    </tr>\n",
       "  </thead>\n",
       "  <tbody>\n",
       "    <tr>\n",
       "      <th>10</th>\n",
       "      <td>11.0</td>\n",
       "      <td>Japan</td>\n",
       "      <td>10.0</td>\n",
       "      <td>5.0</td>\n",
       "      <td>90.0</td>\n",
       "      <td>Beppu</td>\n",
       "    </tr>\n",
       "    <tr>\n",
       "      <th>0</th>\n",
       "      <td>1.0</td>\n",
       "      <td>New Zealand</td>\n",
       "      <td>9.0</td>\n",
       "      <td>4.0</td>\n",
       "      <td>5.0</td>\n",
       "      <td>Rotura</td>\n",
       "    </tr>\n",
       "    <tr>\n",
       "      <th>4</th>\n",
       "      <td>5.0</td>\n",
       "      <td>Austria</td>\n",
       "      <td>9.0</td>\n",
       "      <td>4.0</td>\n",
       "      <td>12.0</td>\n",
       "      <td>Hinterbruhl</td>\n",
       "    </tr>\n",
       "    <tr>\n",
       "      <th>6</th>\n",
       "      <td>7.0</td>\n",
       "      <td>Italy</td>\n",
       "      <td>9.0</td>\n",
       "      <td>5.0</td>\n",
       "      <td>76.0</td>\n",
       "      <td>Puglia</td>\n",
       "    </tr>\n",
       "    <tr>\n",
       "      <th>9</th>\n",
       "      <td>10.0</td>\n",
       "      <td>Indonesia</td>\n",
       "      <td>9.0</td>\n",
       "      <td>4.0</td>\n",
       "      <td>80.0</td>\n",
       "      <td>Aceh</td>\n",
       "    </tr>\n",
       "  </tbody>\n",
       "</table>\n",
       "</div>"
      ],
      "text/plain": [
       "      id  Destination  Feedback  Avg Rating  All in Hotels Most Popular\n",
       "10  11.0        Japan      10.0         5.0           90.0        Beppu\n",
       "0    1.0  New Zealand       9.0         4.0            5.0       Rotura\n",
       "4    5.0      Austria       9.0         4.0           12.0  Hinterbruhl\n",
       "6    7.0        Italy       9.0         5.0           76.0       Puglia\n",
       "9   10.0    Indonesia       9.0         4.0           80.0         Aceh"
      ]
     },
     "execution_count": 21,
     "metadata": {},
     "output_type": "execute_result"
    }
   ],
   "source": [
    "df.sort_values('Feedback', ascending = False).head()"
   ]
  },
  {
   "cell_type": "code",
   "execution_count": 22,
   "id": "9eb3a44f",
   "metadata": {
    "execution": {
     "iopub.execute_input": "2023-03-15T12:16:18.297417Z",
     "iopub.status.busy": "2023-03-15T12:16:18.296985Z",
     "iopub.status.idle": "2023-03-15T12:16:18.322989Z",
     "shell.execute_reply": "2023-03-15T12:16:18.321745Z"
    },
    "papermill": {
     "duration": 0.039612,
     "end_time": "2023-03-15T12:16:18.325254",
     "exception": false,
     "start_time": "2023-03-15T12:16:18.285642",
     "status": "completed"
    },
    "tags": []
   },
   "outputs": [
    {
     "data": {
      "text/html": [
       "<div>\n",
       "<style scoped>\n",
       "    .dataframe tbody tr th:only-of-type {\n",
       "        vertical-align: middle;\n",
       "    }\n",
       "\n",
       "    .dataframe tbody tr th {\n",
       "        vertical-align: top;\n",
       "    }\n",
       "\n",
       "    .dataframe thead th {\n",
       "        text-align: right;\n",
       "    }\n",
       "</style>\n",
       "<table border=\"1\" class=\"dataframe\">\n",
       "  <thead>\n",
       "    <tr style=\"text-align: right;\">\n",
       "      <th></th>\n",
       "      <th>id</th>\n",
       "      <th>Destination</th>\n",
       "      <th>Feedback</th>\n",
       "      <th>Avg Rating</th>\n",
       "      <th>All in Hotels</th>\n",
       "      <th>Most Popular</th>\n",
       "    </tr>\n",
       "  </thead>\n",
       "  <tbody>\n",
       "    <tr>\n",
       "      <th>4</th>\n",
       "      <td>5.0</td>\n",
       "      <td>Austria</td>\n",
       "      <td>9.0</td>\n",
       "      <td>4.0</td>\n",
       "      <td>12.0</td>\n",
       "      <td>Hinterbruhl</td>\n",
       "    </tr>\n",
       "    <tr>\n",
       "      <th>5</th>\n",
       "      <td>6.0</td>\n",
       "      <td>China</td>\n",
       "      <td>8.0</td>\n",
       "      <td>3.0</td>\n",
       "      <td>198.0</td>\n",
       "      <td>Xinjiang</td>\n",
       "    </tr>\n",
       "    <tr>\n",
       "      <th>7</th>\n",
       "      <td>8.0</td>\n",
       "      <td>France</td>\n",
       "      <td>6.0</td>\n",
       "      <td>3.0</td>\n",
       "      <td>24.0</td>\n",
       "      <td>Nantes</td>\n",
       "    </tr>\n",
       "    <tr>\n",
       "      <th>8</th>\n",
       "      <td>9.0</td>\n",
       "      <td>India</td>\n",
       "      <td>8.0</td>\n",
       "      <td>3.0</td>\n",
       "      <td>45.0</td>\n",
       "      <td>Ladakh</td>\n",
       "    </tr>\n",
       "    <tr>\n",
       "      <th>9</th>\n",
       "      <td>10.0</td>\n",
       "      <td>Indonesia</td>\n",
       "      <td>9.0</td>\n",
       "      <td>4.0</td>\n",
       "      <td>80.0</td>\n",
       "      <td>Aceh</td>\n",
       "    </tr>\n",
       "    <tr>\n",
       "      <th>6</th>\n",
       "      <td>7.0</td>\n",
       "      <td>Italy</td>\n",
       "      <td>9.0</td>\n",
       "      <td>5.0</td>\n",
       "      <td>76.0</td>\n",
       "      <td>Puglia</td>\n",
       "    </tr>\n",
       "    <tr>\n",
       "      <th>10</th>\n",
       "      <td>11.0</td>\n",
       "      <td>Japan</td>\n",
       "      <td>10.0</td>\n",
       "      <td>5.0</td>\n",
       "      <td>90.0</td>\n",
       "      <td>Beppu</td>\n",
       "    </tr>\n",
       "    <tr>\n",
       "      <th>0</th>\n",
       "      <td>1.0</td>\n",
       "      <td>New Zealand</td>\n",
       "      <td>9.0</td>\n",
       "      <td>4.0</td>\n",
       "      <td>5.0</td>\n",
       "      <td>Rotura</td>\n",
       "    </tr>\n",
       "    <tr>\n",
       "      <th>1</th>\n",
       "      <td>2.0</td>\n",
       "      <td>North Pole</td>\n",
       "      <td>8.0</td>\n",
       "      <td>4.0</td>\n",
       "      <td>6.0</td>\n",
       "      <td>Svalbard</td>\n",
       "    </tr>\n",
       "    <tr>\n",
       "      <th>13</th>\n",
       "      <td>14.0</td>\n",
       "      <td>Oman</td>\n",
       "      <td>7.0</td>\n",
       "      <td>5.0</td>\n",
       "      <td>2.0</td>\n",
       "      <td>Bahla</td>\n",
       "    </tr>\n",
       "    <tr>\n",
       "      <th>12</th>\n",
       "      <td>13.0</td>\n",
       "      <td>Palestine</td>\n",
       "      <td>9.0</td>\n",
       "      <td>3.0</td>\n",
       "      <td>5.0</td>\n",
       "      <td>Jerusalem</td>\n",
       "    </tr>\n",
       "    <tr>\n",
       "      <th>3</th>\n",
       "      <td>4.0</td>\n",
       "      <td>Russia</td>\n",
       "      <td>8.0</td>\n",
       "      <td>5.0</td>\n",
       "      <td>17.0</td>\n",
       "      <td>Yekaterinburg</td>\n",
       "    </tr>\n",
       "    <tr>\n",
       "      <th>11</th>\n",
       "      <td>12.0</td>\n",
       "      <td>Turkey</td>\n",
       "      <td>9.0</td>\n",
       "      <td>4.0</td>\n",
       "      <td>54.0</td>\n",
       "      <td>Faralya</td>\n",
       "    </tr>\n",
       "    <tr>\n",
       "      <th>2</th>\n",
       "      <td>3.0</td>\n",
       "      <td>Turkmenistan</td>\n",
       "      <td>7.0</td>\n",
       "      <td>3.0</td>\n",
       "      <td>9.0</td>\n",
       "      <td>Derweze</td>\n",
       "    </tr>\n",
       "    <tr>\n",
       "      <th>14</th>\n",
       "      <td>15.0</td>\n",
       "      <td>United Kingdom</td>\n",
       "      <td>7.0</td>\n",
       "      <td>4.0</td>\n",
       "      <td>20.0</td>\n",
       "      <td>London</td>\n",
       "    </tr>\n",
       "    <tr>\n",
       "      <th>15</th>\n",
       "      <td>NaN</td>\n",
       "      <td>NaN</td>\n",
       "      <td>NaN</td>\n",
       "      <td>NaN</td>\n",
       "      <td>NaN</td>\n",
       "      <td>NaN</td>\n",
       "    </tr>\n",
       "    <tr>\n",
       "      <th>16</th>\n",
       "      <td>NaN</td>\n",
       "      <td>NaN</td>\n",
       "      <td>NaN</td>\n",
       "      <td>NaN</td>\n",
       "      <td>NaN</td>\n",
       "      <td>NaN</td>\n",
       "    </tr>\n",
       "  </tbody>\n",
       "</table>\n",
       "</div>"
      ],
      "text/plain": [
       "      id     Destination  Feedback  Avg Rating  All in Hotels   Most Popular\n",
       "4    5.0         Austria       9.0         4.0           12.0    Hinterbruhl\n",
       "5    6.0           China       8.0         3.0          198.0       Xinjiang\n",
       "7    8.0          France       6.0         3.0           24.0         Nantes\n",
       "8    9.0           India       8.0         3.0           45.0         Ladakh\n",
       "9   10.0       Indonesia       9.0         4.0           80.0           Aceh\n",
       "6    7.0           Italy       9.0         5.0           76.0         Puglia\n",
       "10  11.0           Japan      10.0         5.0           90.0          Beppu\n",
       "0    1.0     New Zealand       9.0         4.0            5.0         Rotura\n",
       "1    2.0      North Pole       8.0         4.0            6.0       Svalbard\n",
       "13  14.0            Oman       7.0         5.0            2.0          Bahla\n",
       "12  13.0       Palestine       9.0         3.0            5.0      Jerusalem\n",
       "3    4.0          Russia       8.0         5.0           17.0  Yekaterinburg\n",
       "11  12.0          Turkey       9.0         4.0           54.0        Faralya\n",
       "2    3.0    Turkmenistan       7.0         3.0            9.0        Derweze\n",
       "14  15.0  United Kingdom       7.0         4.0           20.0         London\n",
       "15   NaN             NaN       NaN         NaN            NaN            NaN\n",
       "16   NaN             NaN       NaN         NaN            NaN            NaN"
      ]
     },
     "execution_count": 22,
     "metadata": {},
     "output_type": "execute_result"
    }
   ],
   "source": [
    "df.sort_values(['Destination', 'Avg Rating'], ascending = [True,False])"
   ]
  },
  {
   "cell_type": "code",
   "execution_count": 23,
   "id": "ba0de6a1",
   "metadata": {
    "execution": {
     "iopub.execute_input": "2023-03-15T12:16:18.348414Z",
     "iopub.status.busy": "2023-03-15T12:16:18.347681Z",
     "iopub.status.idle": "2023-03-15T12:16:18.355580Z",
     "shell.execute_reply": "2023-03-15T12:16:18.354368Z"
    },
    "papermill": {
     "duration": 0.022529,
     "end_time": "2023-03-15T12:16:18.358148",
     "exception": false,
     "start_time": "2023-03-15T12:16:18.335619",
     "status": "completed"
    },
    "tags": []
   },
   "outputs": [
    {
     "data": {
      "text/plain": [
       "198.0"
      ]
     },
     "execution_count": 23,
     "metadata": {},
     "output_type": "execute_result"
    }
   ],
   "source": [
    "df['All in Hotels'].max()"
   ]
  },
  {
   "cell_type": "code",
   "execution_count": 24,
   "id": "13df791d",
   "metadata": {
    "execution": {
     "iopub.execute_input": "2023-03-15T12:16:18.380648Z",
     "iopub.status.busy": "2023-03-15T12:16:18.380219Z",
     "iopub.status.idle": "2023-03-15T12:16:18.387843Z",
     "shell.execute_reply": "2023-03-15T12:16:18.386627Z"
    },
    "papermill": {
     "duration": 0.021634,
     "end_time": "2023-03-15T12:16:18.390178",
     "exception": false,
     "start_time": "2023-03-15T12:16:18.368544",
     "status": "completed"
    },
    "tags": []
   },
   "outputs": [
    {
     "data": {
      "text/plain": [
       "10.0"
      ]
     },
     "execution_count": 24,
     "metadata": {},
     "output_type": "execute_result"
    }
   ],
   "source": [
    "df['Feedback']. max()"
   ]
  },
  {
   "cell_type": "code",
   "execution_count": 25,
   "id": "0ebb3565",
   "metadata": {
    "execution": {
     "iopub.execute_input": "2023-03-15T12:16:18.413267Z",
     "iopub.status.busy": "2023-03-15T12:16:18.412573Z",
     "iopub.status.idle": "2023-03-15T12:16:18.419047Z",
     "shell.execute_reply": "2023-03-15T12:16:18.418094Z"
    },
    "papermill": {
     "duration": 0.020868,
     "end_time": "2023-03-15T12:16:18.421461",
     "exception": false,
     "start_time": "2023-03-15T12:16:18.400593",
     "status": "completed"
    },
    "tags": []
   },
   "outputs": [],
   "source": [
    "df_filter = df[df['Feedback'] >7]\n",
    "destinations = df_filter['Destination']"
   ]
  },
  {
   "cell_type": "code",
   "execution_count": 26,
   "id": "56b493f3",
   "metadata": {
    "execution": {
     "iopub.execute_input": "2023-03-15T12:16:18.444597Z",
     "iopub.status.busy": "2023-03-15T12:16:18.443733Z",
     "iopub.status.idle": "2023-03-15T12:16:18.451906Z",
     "shell.execute_reply": "2023-03-15T12:16:18.450861Z"
    },
    "papermill": {
     "duration": 0.02224,
     "end_time": "2023-03-15T12:16:18.454137",
     "exception": false,
     "start_time": "2023-03-15T12:16:18.431897",
     "status": "completed"
    },
    "tags": []
   },
   "outputs": [
    {
     "data": {
      "text/plain": [
       "0     New Zealand\n",
       "1      North Pole\n",
       "3          Russia\n",
       "4         Austria\n",
       "5           China\n",
       "6           Italy\n",
       "8           India\n",
       "9       Indonesia\n",
       "10          Japan\n",
       "11         Turkey\n",
       "12      Palestine\n",
       "Name: Destination, dtype: object"
      ]
     },
     "execution_count": 26,
     "metadata": {},
     "output_type": "execute_result"
    }
   ],
   "source": [
    "destinations"
   ]
  }
 ],
 "metadata": {
  "kernelspec": {
   "display_name": "Python 3",
   "language": "python",
   "name": "python3"
  },
  "language_info": {
   "codemirror_mode": {
    "name": "ipython",
    "version": 3
   },
   "file_extension": ".py",
   "mimetype": "text/x-python",
   "name": "python",
   "nbconvert_exporter": "python",
   "pygments_lexer": "ipython3",
   "version": "3.7.12"
  },
  "papermill": {
   "default_parameters": {},
   "duration": 11.545351,
   "end_time": "2023-03-15T12:16:19.086386",
   "environment_variables": {},
   "exception": null,
   "input_path": "__notebook__.ipynb",
   "output_path": "__notebook__.ipynb",
   "parameters": {},
   "start_time": "2023-03-15T12:16:07.541035",
   "version": "2.4.0"
  }
 },
 "nbformat": 4,
 "nbformat_minor": 5
}
